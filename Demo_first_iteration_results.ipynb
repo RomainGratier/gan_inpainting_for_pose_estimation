{
 "cells": [
  {
   "cell_type": "code",
   "execution_count": 1,
   "metadata": {},
   "outputs": [],
   "source": [
    "%matplotlib inline\n",
    "from pycocotools.coco import COCO\n",
    "import urllib.request\n",
    "import numpy as np\n",
    "import skimage.io as io\n",
    "import matplotlib.pyplot as plt\n",
    "import pylab\n",
    "from tqdm import tqdm\n",
    "pylab.rcParams['figure.figsize'] = (8.0, 10.0)\n"
   ]
  },
  {
   "cell_type": "code",
   "execution_count": 2,
   "metadata": {},
   "outputs": [],
   "source": [
    "import functools\n",
    "import os.path\n",
    "import random\n",
    "import sys\n",
    "import xml.etree.ElementTree\n",
    "import numpy as np\n",
    "import matplotlib.pyplot as plt\n",
    "import skimage.data\n",
    "import cv2\n",
    "import PIL.Image"
   ]
  },
  {
   "cell_type": "code",
   "execution_count": 3,
   "metadata": {},
   "outputs": [],
   "source": [
    "import os\n",
    "import random\n",
    "from argparse import ArgumentParser\n",
    "from PIL import Image\n",
    "\n",
    "import torch\n",
    "import torch.nn as nn\n",
    "import torch.backends.cudnn as cudnn\n",
    "import torchvision.transforms as transforms\n",
    "import torchvision.utils as vutils\n",
    "\n",
    "from model.networks import Generator\n",
    "from utils.tools import get_config, random_bbox, mask_image, is_image_file, default_loader, normalize, get_model_list\n",
    "\n",
    "SEED = 42 \n",
    "\n",
    "random.seed(SEED)\n",
    "np.random.seed(SEED)\n",
    "torch.manual_seed(SEED)\n",
    "torch.cuda.manual_seed_all(SEED)\n"
   ]
  },
  {
   "cell_type": "code",
   "execution_count": 4,
   "metadata": {},
   "outputs": [],
   "source": [
    "from pathlib import Path\n",
    "from glob import glob"
   ]
  },
  {
   "cell_type": "code",
   "execution_count": 52,
   "metadata": {},
   "outputs": [],
   "source": [
    "dataDir='datasets/coco'\n",
    "dataType='val2017'\n",
    "annFile_full='{}/annotations/instances_{}.json'.format(dataDir,dataType)\n",
    "annFile_human_pose = '{}/annotations/person_keypoints_{}.json'.format(dataDir,dataType)"
   ]
  },
  {
   "cell_type": "code",
   "execution_count": 76,
   "metadata": {},
   "outputs": [
    {
     "name": "stdout",
     "output_type": "stream",
     "text": [
      "loading annotations into memory...\n",
      "Done (t=0.53s)\n",
      "creating index...\n",
      "index created!\n",
      "loading annotations into memory...\n",
      "Done (t=0.17s)\n",
      "creating index...\n",
      "index created!\n"
     ]
    }
   ],
   "source": [
    "# initialize COCO api for instance annotations\n",
    "coco=COCO(annFile_full)\n",
    "coco_kps=COCO(annFile_human_pose)\n",
    "\n",
    "# get all images containing given categories, select one at random\n",
    "catIds = coco.getCatIds(catNms=['person'])\n",
    "imgIds = coco.getImgIds(catIds=catIds)\n",
    "\n",
    "list_of_anns = []\n",
    "for img_id in imgIds:\n",
    "    img = coco.loadImgs(img_id)[0]\n",
    "    annIds = coco_kps.getAnnIds(imgIds=img['id'], catIds=catIds, iscrowd=0)\n",
    "    if len(annIds) != 1:\n",
    "        continue\n",
    "    anns = coco_kps.loadAnns(annIds)\n",
    "    if anns[0]['area'] < 3000:\n",
    "        continue\n",
    "    \n",
    "    if anns[0]['num_keypoints'] < 10:\n",
    "        continue\n",
    "    list_of_anns.append(anns[0])"
   ]
  },
  {
   "cell_type": "code",
   "execution_count": null,
   "metadata": {},
   "outputs": [],
   "source": []
  },
  {
   "cell_type": "code",
   "execution_count": 94,
   "metadata": {},
   "outputs": [],
   "source": [
    "class DataLoader:\n",
    "    ''' Table to load the Data from folders '''\n",
    "    def __init__(self,\n",
    "                 real_img_path,\n",
    "                 occ_img_path,\n",
    "                 gen_img_path,\n",
    "                 ls_gt,\n",
    "                 ):\n",
    "        ''' Define the constructor variables'''\n",
    "        self.real_img_path = real_img_path\n",
    "        self.occ_img_path = occ_img_path\n",
    "        self.gen_img_path = gen_img_path\n",
    "        self.ls_gt = ls_gt\n",
    "        \n",
    "    def get_the_paths(self, folder_path):\n",
    "        return sorted([str(file).split('/')[1] for file in Path(folder_path).glob('*.jpg')])\n",
    "    \n",
    "    def get_shared_img(self, real_list, occ_list, gen_list):\n",
    "        return set(real_list) & set(occ_list) & set(gen_list)\n",
    "    \n",
    "    def remove_unshared_img(self, list_imgs, large_list):\n",
    "        return [x for x in large_list if x in list_imgs]\n",
    "    \n",
    "    def remove_unshared_img_gt(self, list_imgs, large_list):\n",
    "        check_list = list(list_imgs)\n",
    "        check_list = [int(x.split('.')[0]) for x in check_list]\n",
    "        \n",
    "        return [x for x in large_list if x['image_id'] in check_list]\n",
    "    \n",
    "    def create_dictionary_of_lists(self, real_list, occ_list, gen_list, final_ls_gt):\n",
    "        print(' ------------- Check List Length ------------- ')\n",
    "        print(f'Real list : {len(real_list)}\\nOccluded list : {len(occ_list)}\\nGenerated list : {len(gen_list)}\\nGround Thruth list : {len(final_ls_gt)}')\n",
    "        return {\n",
    "            self.real_img_path: real_list,\n",
    "            self.occ_img_path: occ_list,\n",
    "            self.gen_img_path: gen_list,\n",
    "            'ground_truth': final_ls_gt,\n",
    "               }\n",
    "        \n",
    "    def make_dataset(self):\n",
    "        # Get the lists of folder path\n",
    "        real_imgs_paths = self.get_the_paths(self.real_img_path)\n",
    "        occ_imgs_paths = self.get_the_paths(self.occ_img_path)\n",
    "        gen_imgs_paths = self.get_the_paths(self.gen_img_path)\n",
    "        \n",
    "        # Get shared list\n",
    "        shared_img = self.get_shared_img(real_imgs_paths, occ_imgs_paths, gen_imgs_paths)\n",
    "        \n",
    "        # Check if unwanted files are present\n",
    "        real_imgs_paths = self.remove_unshared_img(shared_img, real_imgs_paths)\n",
    "        occ_imgs_paths = self.remove_unshared_img(shared_img, occ_imgs_paths)\n",
    "        gen_imgs_paths = self.remove_unshared_img(shared_img, gen_imgs_paths)\n",
    "        final_ls_gt = self.remove_unshared_img_gt(shared_img, self.ls_gt)\n",
    "        \n",
    "        return self.create_dictionary_of_lists(real_imgs_paths, occ_imgs_paths, gen_imgs_paths, final_ls_gt)"
   ]
  },
  {
   "cell_type": "code",
   "execution_count": 95,
   "metadata": {},
   "outputs": [
    {
     "name": "stdout",
     "output_type": "stream",
     "text": [
      " ------------- Check List Length ------------- \n",
      "Real list : 545\n",
      "Occluded list : 545\n",
      "Generated list : 545\n",
      "Ground Thruth list : 545\n"
     ]
    }
   ],
   "source": [
    "loader = DataLoader('real_img', 'occ_img', 'gen_img', list_of_anns)\n",
    "dataset = loader.make_dataset()"
   ]
  },
  {
   "cell_type": "code",
   "execution_count": null,
   "metadata": {},
   "outputs": [],
   "source": []
  },
  {
   "cell_type": "code",
   "execution_count": null,
   "metadata": {},
   "outputs": [],
   "source": []
  }
 ],
 "metadata": {
  "kernelspec": {
   "display_name": "Python 3",
   "language": "python",
   "name": "python3"
  },
  "language_info": {
   "codemirror_mode": {
    "name": "ipython",
    "version": 3
   },
   "file_extension": ".py",
   "mimetype": "text/x-python",
   "name": "python",
   "nbconvert_exporter": "python",
   "pygments_lexer": "ipython3",
   "version": "3.7.3"
  }
 },
 "nbformat": 4,
 "nbformat_minor": 2
}
